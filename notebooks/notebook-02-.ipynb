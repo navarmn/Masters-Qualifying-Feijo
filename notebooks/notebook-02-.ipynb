{
 "cells": [
  {
   "cell_type": "code",
   "execution_count": 10,
   "metadata": {},
   "outputs": [
    {
     "name": "stderr",
     "output_type": "stream",
     "text": [
      "/home/navar/anaconda3/lib/python3.6/importlib/_bootstrap.py:219: RuntimeWarning: numpy.dtype size changed, may indicate binary incompatibility. Expected 96, got 88\n",
      "  return f(*args, **kwds)\n"
     ]
    }
   ],
   "source": [
    "from sklearn.externals import joblib\n",
    "import pandas as pd\n",
    "import os\n",
    "import sys\n",
    "sys.path.append('../src')\n",
    "from transforms import *\n",
    "\n",
    "DATA_FOLDER = '../data/csv'\n",
    "DATA = 'v000_SCIG_SC_SENSORA_SCM_chunk_90.csv'\n",
    "LABELS = 'v000_SCIG_SC_SENSORA_SCM_labels_chunk_90.csv'\n",
    "SEED = 6969"
   ]
  },
  {
   "cell_type": "markdown",
   "metadata": {},
   "source": [
    "# Load data"
   ]
  },
  {
   "cell_type": "code",
   "execution_count": 11,
   "metadata": {},
   "outputs": [],
   "source": [
    "data = pd.read_csv(os.path.join(DATA_FOLDER, DATA))\n",
    "data_labels = pd.read_csv(os.path.join(DATA_FOLDER, LABELS))"
   ]
  },
  {
   "cell_type": "code",
   "execution_count": 12,
   "metadata": {},
   "outputs": [
    {
     "data": {
      "text/html": [
       "<div>\n",
       "<style scoped>\n",
       "    .dataframe tbody tr th:only-of-type {\n",
       "        vertical-align: middle;\n",
       "    }\n",
       "\n",
       "    .dataframe tbody tr th {\n",
       "        vertical-align: top;\n",
       "    }\n",
       "\n",
       "    .dataframe thead th {\n",
       "        text-align: right;\n",
       "    }\n",
       "</style>\n",
       "<table border=\"1\" class=\"dataframe\">\n",
       "  <thead>\n",
       "    <tr style=\"text-align: right;\">\n",
       "      <th></th>\n",
       "      <th>idx</th>\n",
       "      <th>scm_COR_R</th>\n",
       "      <th>scm_IDM_R</th>\n",
       "      <th>scm_ENT_R</th>\n",
       "      <th>scm_CSD_R</th>\n",
       "      <th>scm_CSR_R</th>\n",
       "      <th>scm_DKL_R</th>\n",
       "      <th>scm_MDR_R</th>\n",
       "      <th>scm_CAD_R</th>\n",
       "      <th>Freq_Rated</th>\n",
       "      <th>Freq_Gen</th>\n",
       "      <th>CC_bus</th>\n",
       "      <th>Power</th>\n",
       "      <th>I_R_rms</th>\n",
       "      <th>I_S_rms</th>\n",
       "      <th>I_T_rms</th>\n",
       "      <th>Load</th>\n",
       "      <th>Class</th>\n",
       "    </tr>\n",
       "  </thead>\n",
       "  <tbody>\n",
       "    <tr>\n",
       "      <th>0</th>\n",
       "      <td>106.0</td>\n",
       "      <td>0.435112</td>\n",
       "      <td>0.722721</td>\n",
       "      <td>2.412040</td>\n",
       "      <td>0.287961</td>\n",
       "      <td>0.851257</td>\n",
       "      <td>0.0</td>\n",
       "      <td>1.0</td>\n",
       "      <td>1.0</td>\n",
       "      <td>52.5</td>\n",
       "      <td>51.63</td>\n",
       "      <td>287.0</td>\n",
       "      <td>0.24</td>\n",
       "      <td>1.879780</td>\n",
       "      <td>1.661605</td>\n",
       "      <td>1.775258</td>\n",
       "      <td>0.0</td>\n",
       "      <td>4.0</td>\n",
       "    </tr>\n",
       "    <tr>\n",
       "      <th>1</th>\n",
       "      <td>24.0</td>\n",
       "      <td>0.462354</td>\n",
       "      <td>0.765990</td>\n",
       "      <td>2.185565</td>\n",
       "      <td>0.229080</td>\n",
       "      <td>0.928386</td>\n",
       "      <td>0.0</td>\n",
       "      <td>1.0</td>\n",
       "      <td>1.0</td>\n",
       "      <td>45.0</td>\n",
       "      <td>44.25</td>\n",
       "      <td>295.0</td>\n",
       "      <td>0.26</td>\n",
       "      <td>1.871471</td>\n",
       "      <td>1.764580</td>\n",
       "      <td>1.851097</td>\n",
       "      <td>0.0</td>\n",
       "      <td>3.0</td>\n",
       "    </tr>\n",
       "    <tr>\n",
       "      <th>2</th>\n",
       "      <td>36.0</td>\n",
       "      <td>0.465005</td>\n",
       "      <td>0.746703</td>\n",
       "      <td>2.365608</td>\n",
       "      <td>0.250448</td>\n",
       "      <td>0.880492</td>\n",
       "      <td>0.0</td>\n",
       "      <td>1.0</td>\n",
       "      <td>1.0</td>\n",
       "      <td>47.5</td>\n",
       "      <td>46.31</td>\n",
       "      <td>356.0</td>\n",
       "      <td>0.50</td>\n",
       "      <td>3.016166</td>\n",
       "      <td>2.654177</td>\n",
       "      <td>2.725753</td>\n",
       "      <td>0.0</td>\n",
       "      <td>6.0</td>\n",
       "    </tr>\n",
       "    <tr>\n",
       "      <th>3</th>\n",
       "      <td>53.0</td>\n",
       "      <td>0.460772</td>\n",
       "      <td>0.748649</td>\n",
       "      <td>2.292024</td>\n",
       "      <td>0.244511</td>\n",
       "      <td>0.879799</td>\n",
       "      <td>0.0</td>\n",
       "      <td>1.0</td>\n",
       "      <td>1.0</td>\n",
       "      <td>47.5</td>\n",
       "      <td>46.74</td>\n",
       "      <td>284.0</td>\n",
       "      <td>0.23</td>\n",
       "      <td>1.779976</td>\n",
       "      <td>1.672404</td>\n",
       "      <td>1.735441</td>\n",
       "      <td>0.0</td>\n",
       "      <td>3.0</td>\n",
       "    </tr>\n",
       "    <tr>\n",
       "      <th>4</th>\n",
       "      <td>83.0</td>\n",
       "      <td>0.460398</td>\n",
       "      <td>0.736063</td>\n",
       "      <td>2.369517</td>\n",
       "      <td>0.266500</td>\n",
       "      <td>0.853738</td>\n",
       "      <td>0.0</td>\n",
       "      <td>1.0</td>\n",
       "      <td>1.0</td>\n",
       "      <td>52.5</td>\n",
       "      <td>51.48</td>\n",
       "      <td>360.0</td>\n",
       "      <td>0.48</td>\n",
       "      <td>2.687841</td>\n",
       "      <td>2.669896</td>\n",
       "      <td>2.756524</td>\n",
       "      <td>0.0</td>\n",
       "      <td>2.0</td>\n",
       "    </tr>\n",
       "  </tbody>\n",
       "</table>\n",
       "</div>"
      ],
      "text/plain": [
       "     idx  scm_COR_R  scm_IDM_R  scm_ENT_R  scm_CSD_R  scm_CSR_R  scm_DKL_R  \\\n",
       "0  106.0   0.435112   0.722721   2.412040   0.287961   0.851257        0.0   \n",
       "1   24.0   0.462354   0.765990   2.185565   0.229080   0.928386        0.0   \n",
       "2   36.0   0.465005   0.746703   2.365608   0.250448   0.880492        0.0   \n",
       "3   53.0   0.460772   0.748649   2.292024   0.244511   0.879799        0.0   \n",
       "4   83.0   0.460398   0.736063   2.369517   0.266500   0.853738        0.0   \n",
       "\n",
       "   scm_MDR_R  scm_CAD_R  Freq_Rated  Freq_Gen  CC_bus  Power   I_R_rms  \\\n",
       "0        1.0        1.0        52.5     51.63   287.0   0.24  1.879780   \n",
       "1        1.0        1.0        45.0     44.25   295.0   0.26  1.871471   \n",
       "2        1.0        1.0        47.5     46.31   356.0   0.50  3.016166   \n",
       "3        1.0        1.0        47.5     46.74   284.0   0.23  1.779976   \n",
       "4        1.0        1.0        52.5     51.48   360.0   0.48  2.687841   \n",
       "\n",
       "    I_S_rms   I_T_rms  Load  Class  \n",
       "0  1.661605  1.775258   0.0    4.0  \n",
       "1  1.764580  1.851097   0.0    3.0  \n",
       "2  2.654177  2.725753   0.0    6.0  \n",
       "3  1.672404  1.735441   0.0    3.0  \n",
       "4  2.669896  2.756524   0.0    2.0  "
      ]
     },
     "execution_count": 12,
     "metadata": {},
     "output_type": "execute_result"
    }
   ],
   "source": [
    "data.head()"
   ]
  },
  {
   "cell_type": "code",
   "execution_count": 14,
   "metadata": {},
   "outputs": [],
   "source": [
    "from sklearn.pipeline import Pipeline\n",
    "\n",
    "pipeline = Pipeline([('cleaner', DropNaN()),\n",
    "                     ('selector', FeatureSelection(extractor='SCM')),\n",
    "                     ('scaler', FeatureScaling()),\n",
    "                    ])"
   ]
  },
  {
   "cell_type": "code",
   "execution_count": 16,
   "metadata": {},
   "outputs": [],
   "source": [
    "features = pipeline.fit_transform(data)"
   ]
  },
  {
   "cell_type": "code",
   "execution_count": null,
   "metadata": {},
   "outputs": [],
   "source": []
  },
  {
   "cell_type": "code",
   "execution_count": null,
   "metadata": {},
   "outputs": [],
   "source": []
  },
  {
   "cell_type": "code",
   "execution_count": null,
   "metadata": {},
   "outputs": [],
   "source": []
  },
  {
   "cell_type": "code",
   "execution_count": null,
   "metadata": {},
   "outputs": [],
   "source": []
  }
 ],
 "metadata": {
  "kernelspec": {
   "display_name": "Masters-Feijo",
   "language": "python",
   "name": ".env"
  },
  "language_info": {
   "codemirror_mode": {
    "name": "ipython",
    "version": 3
   },
   "file_extension": ".py",
   "mimetype": "text/x-python",
   "name": "python",
   "nbconvert_exporter": "python",
   "pygments_lexer": "ipython3",
   "version": "3.6.5"
  }
 },
 "nbformat": 4,
 "nbformat_minor": 2
}
