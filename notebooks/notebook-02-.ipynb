{
 "cells": [
  {
   "cell_type": "code",
   "execution_count": 1,
   "metadata": {},
   "outputs": [
    {
     "name": "stderr",
     "output_type": "stream",
     "text": [
      "/home/navar/anaconda3/lib/python3.6/importlib/_bootstrap.py:219: RuntimeWarning: numpy.dtype size changed, may indicate binary incompatibility. Expected 96, got 88\n",
      "  return f(*args, **kwds)\n",
      "/home/navar/anaconda3/lib/python3.6/importlib/_bootstrap.py:219: RuntimeWarning: numpy.dtype size changed, may indicate binary incompatibility. Expected 96, got 88\n",
      "  return f(*args, **kwds)\n"
     ]
    }
   ],
   "source": [
    "from sklearn.externals import joblib\n",
    "import pandas as pd\n",
    "import os\n",
    "import sys\n",
    "sys.path.append('../src')\n",
    "from transforms import *\n",
    "\n",
    "DATA_FOLDER = '../data/csv'\n",
    "\n",
    "DATA = {'FOURIER': 'v000_SCIG_SC_SENSORA_FOURIER_chunk_90', \n",
    "        'HOS': 'v000_SCIG_SC_SENSORA_HOS_chunk_90', \n",
    "        'SCM': 'v000_SCIG_SC_SENSORA_SCM_chunk_90'}\n",
    "\n",
    "LABELS = {'FOURIER': 'v000_SCIG_SC_SENSORA_FOURIER_labels_chunk_90', \n",
    "          'HOS': 'v000_SCIG_SC_SENSORA_HOS_labels_chunk_90', \n",
    "          'SCM': 'v000_SCIG_SC_SENSORA_SCM_labels_chunk_90'}\n",
    "\n",
    "SEED = 6969"
   ]
  },
  {
   "cell_type": "markdown",
   "metadata": {},
   "source": [
    "# Load data"
   ]
  },
  {
   "cell_type": "code",
   "execution_count": 2,
   "metadata": {},
   "outputs": [],
   "source": [
    "feature_set = 'FOURIER'\n",
    "\n",
    "data = pd.read_csv(os.path.join(DATA_FOLDER, DATA[feature_set]) + '.csv')\n",
    "labels = pd.read_csv(os.path.join(DATA_FOLDER, LABELS[feature_set]) + '.csv')"
   ]
  },
  {
   "cell_type": "code",
   "execution_count": 3,
   "metadata": {},
   "outputs": [
    {
     "data": {
      "text/html": [
       "<div>\n",
       "<style scoped>\n",
       "    .dataframe tbody tr th:only-of-type {\n",
       "        vertical-align: middle;\n",
       "    }\n",
       "\n",
       "    .dataframe tbody tr th {\n",
       "        vertical-align: top;\n",
       "    }\n",
       "\n",
       "    .dataframe thead th {\n",
       "        text-align: right;\n",
       "    }\n",
       "</style>\n",
       "<table border=\"1\" class=\"dataframe\">\n",
       "  <thead>\n",
       "    <tr style=\"text-align: right;\">\n",
       "      <th></th>\n",
       "      <th>idx</th>\n",
       "      <th>fx1_R</th>\n",
       "      <th>fx0d5_R</th>\n",
       "      <th>fx1d5_R</th>\n",
       "      <th>fx2d5_R</th>\n",
       "      <th>fx3_R</th>\n",
       "      <th>fx5_R</th>\n",
       "      <th>fx7_R</th>\n",
       "      <th>Freq_Rated</th>\n",
       "      <th>Freq_Gen</th>\n",
       "      <th>CC_bus</th>\n",
       "      <th>Power</th>\n",
       "      <th>I_R_rms</th>\n",
       "      <th>I_S_rms</th>\n",
       "      <th>I_T_rms</th>\n",
       "      <th>Load</th>\n",
       "      <th>Class</th>\n",
       "    </tr>\n",
       "  </thead>\n",
       "  <tbody>\n",
       "    <tr>\n",
       "      <th>0</th>\n",
       "      <td>106.0</td>\n",
       "      <td>0.984892</td>\n",
       "      <td>0.023496</td>\n",
       "      <td>0.033428</td>\n",
       "      <td>0.021333</td>\n",
       "      <td>0.201807</td>\n",
       "      <td>0.371382</td>\n",
       "      <td>0.319380</td>\n",
       "      <td>52.5</td>\n",
       "      <td>51.63</td>\n",
       "      <td>287.0</td>\n",
       "      <td>0.24</td>\n",
       "      <td>1.879780</td>\n",
       "      <td>1.661605</td>\n",
       "      <td>1.775258</td>\n",
       "      <td>0.0</td>\n",
       "      <td>4.0</td>\n",
       "    </tr>\n",
       "    <tr>\n",
       "      <th>1</th>\n",
       "      <td>24.0</td>\n",
       "      <td>0.867996</td>\n",
       "      <td>0.014729</td>\n",
       "      <td>0.038349</td>\n",
       "      <td>0.018842</td>\n",
       "      <td>0.150441</td>\n",
       "      <td>0.384602</td>\n",
       "      <td>0.275356</td>\n",
       "      <td>45.0</td>\n",
       "      <td>44.25</td>\n",
       "      <td>295.0</td>\n",
       "      <td>0.26</td>\n",
       "      <td>1.871471</td>\n",
       "      <td>1.764580</td>\n",
       "      <td>1.851097</td>\n",
       "      <td>0.0</td>\n",
       "      <td>3.0</td>\n",
       "    </tr>\n",
       "    <tr>\n",
       "      <th>2</th>\n",
       "      <td>36.0</td>\n",
       "      <td>1.218724</td>\n",
       "      <td>0.020471</td>\n",
       "      <td>0.031999</td>\n",
       "      <td>0.015327</td>\n",
       "      <td>0.143213</td>\n",
       "      <td>0.390037</td>\n",
       "      <td>0.398740</td>\n",
       "      <td>47.5</td>\n",
       "      <td>46.31</td>\n",
       "      <td>356.0</td>\n",
       "      <td>0.50</td>\n",
       "      <td>3.016166</td>\n",
       "      <td>2.654177</td>\n",
       "      <td>2.725753</td>\n",
       "      <td>0.0</td>\n",
       "      <td>6.0</td>\n",
       "    </tr>\n",
       "    <tr>\n",
       "      <th>3</th>\n",
       "      <td>53.0</td>\n",
       "      <td>0.855593</td>\n",
       "      <td>0.016479</td>\n",
       "      <td>0.043882</td>\n",
       "      <td>0.009739</td>\n",
       "      <td>0.142357</td>\n",
       "      <td>0.354431</td>\n",
       "      <td>0.327678</td>\n",
       "      <td>47.5</td>\n",
       "      <td>46.74</td>\n",
       "      <td>284.0</td>\n",
       "      <td>0.23</td>\n",
       "      <td>1.779976</td>\n",
       "      <td>1.672404</td>\n",
       "      <td>1.735441</td>\n",
       "      <td>0.0</td>\n",
       "      <td>3.0</td>\n",
       "    </tr>\n",
       "    <tr>\n",
       "      <th>4</th>\n",
       "      <td>83.0</td>\n",
       "      <td>1.171638</td>\n",
       "      <td>0.115717</td>\n",
       "      <td>0.053422</td>\n",
       "      <td>0.066587</td>\n",
       "      <td>0.152327</td>\n",
       "      <td>0.386218</td>\n",
       "      <td>0.377228</td>\n",
       "      <td>52.5</td>\n",
       "      <td>51.48</td>\n",
       "      <td>360.0</td>\n",
       "      <td>0.48</td>\n",
       "      <td>2.687841</td>\n",
       "      <td>2.669896</td>\n",
       "      <td>2.756524</td>\n",
       "      <td>0.0</td>\n",
       "      <td>2.0</td>\n",
       "    </tr>\n",
       "  </tbody>\n",
       "</table>\n",
       "</div>"
      ],
      "text/plain": [
       "     idx     fx1_R   fx0d5_R   fx1d5_R   fx2d5_R     fx3_R     fx5_R  \\\n",
       "0  106.0  0.984892  0.023496  0.033428  0.021333  0.201807  0.371382   \n",
       "1   24.0  0.867996  0.014729  0.038349  0.018842  0.150441  0.384602   \n",
       "2   36.0  1.218724  0.020471  0.031999  0.015327  0.143213  0.390037   \n",
       "3   53.0  0.855593  0.016479  0.043882  0.009739  0.142357  0.354431   \n",
       "4   83.0  1.171638  0.115717  0.053422  0.066587  0.152327  0.386218   \n",
       "\n",
       "      fx7_R  Freq_Rated  Freq_Gen  CC_bus  Power   I_R_rms   I_S_rms  \\\n",
       "0  0.319380        52.5     51.63   287.0   0.24  1.879780  1.661605   \n",
       "1  0.275356        45.0     44.25   295.0   0.26  1.871471  1.764580   \n",
       "2  0.398740        47.5     46.31   356.0   0.50  3.016166  2.654177   \n",
       "3  0.327678        47.5     46.74   284.0   0.23  1.779976  1.672404   \n",
       "4  0.377228        52.5     51.48   360.0   0.48  2.687841  2.669896   \n",
       "\n",
       "    I_T_rms  Load  Class  \n",
       "0  1.775258   0.0    4.0  \n",
       "1  1.851097   0.0    3.0  \n",
       "2  2.725753   0.0    6.0  \n",
       "3  1.735441   0.0    3.0  \n",
       "4  2.756524   0.0    2.0  "
      ]
     },
     "execution_count": 3,
     "metadata": {},
     "output_type": "execute_result"
    }
   ],
   "source": [
    "data.head()"
   ]
  },
  {
   "cell_type": "code",
   "execution_count": 10,
   "metadata": {},
   "outputs": [],
   "source": [
    "from sklearn.pipeline import Pipeline\n",
    "\n",
    "pipeline = Pipeline([('cleaner', DropNaN()),\n",
    "                     ('selector', FeatureSelection(extractor=feature_set)),\n",
    "                     ('scaler', FeatureScaling()),\n",
    "                    ])"
   ]
  },
  {
   "cell_type": "code",
   "execution_count": 12,
   "metadata": {},
   "outputs": [
    {
     "data": {
      "text/html": [
       "<div>\n",
       "<style scoped>\n",
       "    .dataframe tbody tr th:only-of-type {\n",
       "        vertical-align: middle;\n",
       "    }\n",
       "\n",
       "    .dataframe tbody tr th {\n",
       "        vertical-align: top;\n",
       "    }\n",
       "\n",
       "    .dataframe thead th {\n",
       "        text-align: right;\n",
       "    }\n",
       "</style>\n",
       "<table border=\"1\" class=\"dataframe\">\n",
       "  <thead>\n",
       "    <tr style=\"text-align: right;\">\n",
       "      <th></th>\n",
       "      <th>fx0d5_R</th>\n",
       "      <th>fx1d5_R</th>\n",
       "      <th>fx2d5_R</th>\n",
       "      <th>fx3_R</th>\n",
       "      <th>fx5_R</th>\n",
       "      <th>fx7_R</th>\n",
       "      <th>Freq_Gen</th>\n",
       "      <th>CC_bus</th>\n",
       "    </tr>\n",
       "  </thead>\n",
       "  <tbody>\n",
       "    <tr>\n",
       "      <th>0</th>\n",
       "      <td>-0.167465</td>\n",
       "      <td>-0.295381</td>\n",
       "      <td>-0.068850</td>\n",
       "      <td>1.023716</td>\n",
       "      <td>-0.398822</td>\n",
       "      <td>-0.768443</td>\n",
       "      <td>-0.008417</td>\n",
       "      <td>-0.698328</td>\n",
       "    </tr>\n",
       "    <tr>\n",
       "      <th>1</th>\n",
       "      <td>-0.515840</td>\n",
       "      <td>-0.079413</td>\n",
       "      <td>-0.206292</td>\n",
       "      <td>-0.832800</td>\n",
       "      <td>-0.223521</td>\n",
       "      <td>-1.468638</td>\n",
       "      <td>-1.478117</td>\n",
       "      <td>-0.511118</td>\n",
       "    </tr>\n",
       "    <tr>\n",
       "      <th>2</th>\n",
       "      <td>-0.287671</td>\n",
       "      <td>-0.358134</td>\n",
       "      <td>-0.400194</td>\n",
       "      <td>-1.094025</td>\n",
       "      <td>-0.151464</td>\n",
       "      <td>0.493779</td>\n",
       "      <td>-1.067875</td>\n",
       "      <td>0.916361</td>\n",
       "    </tr>\n",
       "    <tr>\n",
       "      <th>3</th>\n",
       "      <td>-0.446329</td>\n",
       "      <td>0.163424</td>\n",
       "      <td>-0.708516</td>\n",
       "      <td>-1.124984</td>\n",
       "      <td>-0.623582</td>\n",
       "      <td>-0.636464</td>\n",
       "      <td>-0.982242</td>\n",
       "      <td>-0.768532</td>\n",
       "    </tr>\n",
       "    <tr>\n",
       "      <th>4</th>\n",
       "      <td>3.497504</td>\n",
       "      <td>0.582133</td>\n",
       "      <td>2.427985</td>\n",
       "      <td>-0.764607</td>\n",
       "      <td>-0.202099</td>\n",
       "      <td>0.151642</td>\n",
       "      <td>-0.038289</td>\n",
       "      <td>1.009966</td>\n",
       "    </tr>\n",
       "  </tbody>\n",
       "</table>\n",
       "</div>"
      ],
      "text/plain": [
       "    fx0d5_R   fx1d5_R   fx2d5_R     fx3_R     fx5_R     fx7_R  Freq_Gen  \\\n",
       "0 -0.167465 -0.295381 -0.068850  1.023716 -0.398822 -0.768443 -0.008417   \n",
       "1 -0.515840 -0.079413 -0.206292 -0.832800 -0.223521 -1.468638 -1.478117   \n",
       "2 -0.287671 -0.358134 -0.400194 -1.094025 -0.151464  0.493779 -1.067875   \n",
       "3 -0.446329  0.163424 -0.708516 -1.124984 -0.623582 -0.636464 -0.982242   \n",
       "4  3.497504  0.582133  2.427985 -0.764607 -0.202099  0.151642 -0.038289   \n",
       "\n",
       "     CC_bus  \n",
       "0 -0.698328  \n",
       "1 -0.511118  \n",
       "2  0.916361  \n",
       "3 -0.768532  \n",
       "4  1.009966  "
      ]
     },
     "execution_count": 12,
     "metadata": {},
     "output_type": "execute_result"
    }
   ],
   "source": [
    "features = pipeline.fit_transform(data)\n",
    "features.head()"
   ]
  },
  {
   "cell_type": "code",
   "execution_count": 13,
   "metadata": {},
   "outputs": [],
   "source": [
    "from sklearn.neural_network import MLPClassifier\n",
    "from sklearn.svm import SVC\n",
    "from sklearn.naive_bayes import GaussianNB\n",
    "from sklearn.neighbors import KNeighborsClassifier\n",
    "clf_mlp = MLPClassifier(activation='tanh', hidden_layer_sizes=(100,), learning_rate='adaptive', tol=1e-6, max_iter=2000)\n",
    "clf_svm = SVC()\n",
    "clf_knn = KNeighborsClassifier()\n",
    "clf_naive_bayes = GaussianNB()"
   ]
  },
  {
   "cell_type": "code",
   "execution_count": 14,
   "metadata": {},
   "outputs": [
    {
     "name": "stderr",
     "output_type": "stream",
     "text": [
      "/home/navar/anaconda3/lib/python3.6/site-packages/sklearn/neural_network/multilayer_perceptron.py:563: ConvergenceWarning: Stochastic Optimizer: Maximum iterations reached and the optimization hasn't converged yet.\n",
      "  % (), ConvergenceWarning)\n",
      "/home/navar/anaconda3/lib/python3.6/site-packages/sklearn/neural_network/multilayer_perceptron.py:563: ConvergenceWarning: Stochastic Optimizer: Maximum iterations reached and the optimization hasn't converged yet.\n",
      "  % (), ConvergenceWarning)\n"
     ]
    },
    {
     "data": {
      "text/plain": [
       "array([0.28714524, 0.30185497])"
      ]
     },
     "execution_count": 14,
     "metadata": {},
     "output_type": "execute_result"
    }
   ],
   "source": [
    "from sklearn.model_selection import cross_val_score\n",
    "\n",
    "X = features.values\n",
    "y = labels.values.reshape(-1)\n",
    "\n",
    "cross_val_score(clf_mlp, X, y, cv=2, scoring='accuracy')"
   ]
  },
  {
   "cell_type": "code",
   "execution_count": 15,
   "metadata": {},
   "outputs": [
    {
     "data": {
      "text/plain": [
       "MLPClassifier(activation='tanh', alpha=0.0001, batch_size='auto', beta_1=0.9,\n",
       "       beta_2=0.999, early_stopping=False, epsilon=1e-08,\n",
       "       hidden_layer_sizes=(100,), learning_rate='adaptive',\n",
       "       learning_rate_init=0.001, max_iter=2000, momentum=0.9,\n",
       "       nesterovs_momentum=True, power_t=0.5, random_state=None,\n",
       "       shuffle=True, solver='adam', tol=1e-06, validation_fraction=0.1,\n",
       "       verbose=False, warm_start=False)"
      ]
     },
     "execution_count": 15,
     "metadata": {},
     "output_type": "execute_result"
    }
   ],
   "source": [
    "clf_mlp.fit(X, y)"
   ]
  },
  {
   "cell_type": "markdown",
   "metadata": {},
   "source": [
    "# Load Data"
   ]
  },
  {
   "cell_type": "code",
   "execution_count": 17,
   "metadata": {},
   "outputs": [],
   "source": [
    "DATA = 'v000_SCIG_SC_SENSORA_FOURIER_chunk_10.csv'\n",
    "LABELS = 'v000_SCIG_SC_SENSORA_FOURIER_labels_chunk_10.csv'\n",
    "\n",
    "data = pd.read_csv(os.path.join(DATA_FOLDER, DATA))\n",
    "labels = pd.read_csv(os.path.join(DATA_FOLDER, LABELS))\n",
    "\n",
    "features = pipeline.transform(data)\n",
    "\n",
    "X_test = features.values\n",
    "y_test = labels.values.reshape(-1)"
   ]
  },
  {
   "cell_type": "code",
   "execution_count": 19,
   "metadata": {},
   "outputs": [],
   "source": [
    "y_hat = clf_mlp.predict(X_test)"
   ]
  },
  {
   "cell_type": "code",
   "execution_count": 20,
   "metadata": {},
   "outputs": [
    {
     "name": "stdout",
     "output_type": "stream",
     "text": [
      "[[10  2  1  5  3  2  2]\n",
      " [ 4  4  3  2  3  4  0]\n",
      " [ 0  4  3  2  1  8  0]\n",
      " [ 4  1  1  7  1  0  4]\n",
      " [ 6  2  3  3  1  3  0]\n",
      " [ 3  2  3  1  4  8  0]\n",
      " [ 1  0  0  7  1  0  4]]\n",
      "0.2781954887218045\n"
     ]
    }
   ],
   "source": [
    "from sklearn.metrics import confusion_matrix, accuracy_score\n",
    "\n",
    "print(confusion_matrix(y_test, y_hat))\n",
    "print(accuracy_score(y_test, y_hat))"
   ]
  },
  {
   "cell_type": "code",
   "execution_count": null,
   "metadata": {},
   "outputs": [],
   "source": []
  },
  {
   "cell_type": "code",
   "execution_count": null,
   "metadata": {},
   "outputs": [],
   "source": []
  }
 ],
 "metadata": {
  "kernelspec": {
   "display_name": "Masters-Feijo",
   "language": "python",
   "name": ".env"
  },
  "language_info": {
   "codemirror_mode": {
    "name": "ipython",
    "version": 3
   },
   "file_extension": ".py",
   "mimetype": "text/x-python",
   "name": "python",
   "nbconvert_exporter": "python",
   "pygments_lexer": "ipython3",
   "version": "3.6.5"
  }
 },
 "nbformat": 4,
 "nbformat_minor": 2
}
